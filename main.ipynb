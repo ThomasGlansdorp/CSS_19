{
 "cells": [
  {
   "cell_type": "markdown",
   "metadata": {},
   "source": [
    "# <font color = LightGreen > **CA model of water dynamics and hydrophobic interactions** </font>"
   ]
  },
  {
   "cell_type": "markdown",
   "metadata": {},
   "source": [
    "Authors:\n",
    "- H. Malash, 15179192\n",
    "- S. Bhusal, 14724383\n",
    "- L. Pahladsingh, 13846566\n",
    "- T. Glansdorp, 12748587"
   ]
  },
  {
   "cell_type": "code",
   "execution_count": 1,
   "metadata": {},
   "outputs": [],
   "source": [
    "from model import CA_rules, CA_grid\n",
    "import analysis\n",
    "import numpy as np\n",
    "import matplotlib.pyplot as plt\n",
    "import random\n",
    "import statistics \n",
    "import scipy.stats\n"
   ]
  },
  {
   "cell_type": "markdown",
   "metadata": {},
   "source": [
    "## <font color = LightBlue > **Background Information** </font>"
   ]
  },
  {
   "cell_type": "markdown",
   "metadata": {},
   "source": [
    "Our cellular automaton (CA) model simulating an aqueous solution consists of a grid, representing the surface of a torus. Each cell, denoted as '$\\textit{i}$' is surrounded by four neighbors '$\\textit{j}$ ', and there is an additional cell two positions beyond '$\\textit{i}$ ', labeled as '$\\textit{k}$ '. We interpret the cell indicated by 'j' as the von Neumann neighborhood, and the cell indicated by 'k' as the extended von Neumann neighborhood.\n",
    "\n",
    "The state of each cell, represented by binary numbers, signifies its occupancy. There are three possible options for occupancy within the system:\n",
    "\n",
    "- An empty cell is denoted by 0.\n",
    "- A cell containing water is indicated by 1.\n",
    "- A cell containing solute is indicated by 2.\n",
    "\n",
    "In our model, two parameters influence the movement of molecules within the grid: the $\\textbf{breaking probability}$ ($P_B$) and the $\\textbf{joining probability}$ ($J$). The combination of these probabilities determines the behavior of cell movement.\n",
    "\n",
    "The $\\textbf{breaking probability}$ ($P_B$) represents the probability of a molecule in cell $\\textit{i}$ breaking away from a molecule in cell $\\textit{j}$ when only one $\\textit{j}$ cell is occupied. We have defined three specific breaking probabilities:\n",
    "\n",
    "- $P_B(W)$: Water-water breaking probability\n",
    "- $P_B(L)$: Solute-solute breaking probability\n",
    "- $P_B(WL)$: Water-solute breaking probability\n",
    "\n",
    "The  $\\textbf{joining probability}$ ($J$) quantifies the ratio between the likelihood of a molecule at $\\textit{i}$  moving towards an occupied $\\textit{k}$ cell when $\\textit{j}$  is empty and the probability of the same molecule at $\\textit{i}$  moving towards an empty $\\textit{k}$  cell when $\\textit{j}$  is unoccupied. \n",
    "\n",
    " is a positive number, when ($J=1$), it indicated that a molecule at $\\textit{i}$ has the same probability to move towards an occupied $\\textit{k}$ as when $\\textit{k}$ is empty. So the state of cell $\\textit{k}$ does not matter. \n",
    "\n",
    "The parameter ($J$) is a positive number. When $J=1$, it signifies that a molecule at $\\textit{i}$ has an equal probability of moving towards an occupied $\\textit{k}$ as when $\\textit{k}$ is empty. In this case, the state of cell $\\textit{k}$ does not influence the movement probability. As before we have three distinct joining probabilities: $J(W)$, $J(L)$ and $J(WL)$.\n",
    "\n",
    "### <font> **Moving probability** </font> \n",
    "Combining $P_B$ and $J$, we obtaining the moving probability of a cell $p_m$: </br>\n",
    "$p_m$ = sum of $p_m(d)$ over all possible $\\textit{d}$ if the sum <1,\n",
    "else 1 </br>\n",
    "\n",
    "with\n",
    "\n",
    "$p_m(d) = 1 / (1 + ((4-n)/(P_B^n) - 1) / J(d)) $ </br>\n",
    "if n < 4 and $P_B$ > 0  </br>\n",
    "\n",
    "$\\textit{n}$ indicating the number of occupied $\\textit{j}$ cells, there are $4-n$ directions for $\\textit{i}$ to move. \n",
    "\n",
    "In the case where $J=1$, the moving probability ($p_m$) is equal to $P_B^n$. Given that all our research accepts this condition, we will focus on working with joint probabilities involving only $P_B$ to calculate the moving probability of a molecule.\n",
    "\n",
    "$\\textit{Information mainly based on}$: </br>\n",
    "Kier, L. B., & Cheng, C. K. (1994). A Cellular Automata Model of an Aqueous Solution, Journal of Chemical Information and Computer Science.  34, 1334-1337\n"
   ]
  },
  {
   "cell_type": "markdown",
   "metadata": {},
   "source": [
    "## <font color = LightBlue > **Water Grid** </font>"
   ]
  },
  {
   "cell_type": "markdown",
   "metadata": {},
   "source": [
    "## <font color = LightBlue > **Water-Solute Grid** </font>"
   ]
  },
  {
   "cell_type": "markdown",
   "metadata": {},
   "source": [
    "### <font color = Pink > **Influence of Water temperature on solubility** </font>"
   ]
  },
  {
   "cell_type": "code",
   "execution_count": 4,
   "metadata": {},
   "outputs": [
    {
     "name": "stdout",
     "output_type": "stream",
     "text": [
      "Run number 1\n",
      "Running simulation at pbw = 0.0\n",
      "Running simulation at pbw = 0.25\n",
      "Running simulation at pbw = 0.5\n",
      "Running simulation at pbw = 0.75\n",
      "Running simulation at pbw = 1.0\n",
      "Run number 2\n",
      "Running simulation at pbw = 0.0\n",
      "Running simulation at pbw = 0.25\n",
      "Running simulation at pbw = 0.5\n",
      "Running simulation at pbw = 0.75\n",
      "Running simulation at pbw = 1.0\n",
      "Run number 3\n",
      "Running simulation at pbw = 0.0\n",
      "Running simulation at pbw = 0.25\n",
      "Running simulation at pbw = 0.5\n",
      "Running simulation at pbw = 0.75\n",
      "Running simulation at pbw = 1.0\n",
      "Run number 4\n",
      "Running simulation at pbw = 0.0\n",
      "Running simulation at pbw = 0.25\n",
      "Running simulation at pbw = 0.5\n",
      "Running simulation at pbw = 0.75\n",
      "Running simulation at pbw = 1.0\n",
      "Run number 5\n",
      "Running simulation at pbw = 0.0\n",
      "Running simulation at pbw = 0.25\n",
      "Running simulation at pbw = 0.5\n",
      "Running simulation at pbw = 0.75\n",
      "Running simulation at pbw = 1.0\n",
      "[[7.90000000e+01 8.14566363e-03 1.43747005e-03 4.79156684e-04\n",
      "  0.00000000e+00]\n",
      " [8.10000000e+01 7.66650695e-03 1.43747005e-03 0.00000000e+00\n",
      "  0.00000000e+00]\n",
      " [8.80000000e+01 5.74988021e-03 0.00000000e+00 0.00000000e+00\n",
      "  0.00000000e+00]\n",
      " [6.90000000e+01 1.43747005e-02 4.79156684e-04 0.00000000e+00\n",
      "  0.00000000e+00]\n",
      " [7.80000000e+01 9.58313368e-03 9.58313368e-04 0.00000000e+00\n",
      "  0.00000000e+00]\n",
      " [7.70000000e+01 1.05414471e-02 4.79156684e-04 0.00000000e+00\n",
      "  0.00000000e+00]\n",
      " [8.60000000e+01 6.70819358e-03 0.00000000e+00 0.00000000e+00\n",
      "  0.00000000e+00]\n",
      " [8.20000000e+01 8.62482032e-03 0.00000000e+00 0.00000000e+00\n",
      "  0.00000000e+00]\n",
      " [8.40000000e+01 6.70819358e-03 9.58313368e-04 0.00000000e+00\n",
      "  0.00000000e+00]\n",
      " [7.60000000e+01 1.05414471e-02 9.58313368e-04 0.00000000e+00\n",
      "  0.00000000e+00]\n",
      " [8.10000000e+01 8.62482032e-03 4.79156684e-04 0.00000000e+00\n",
      "  0.00000000e+00]\n",
      " [8.70000000e+01 5.74988021e-03 4.79156684e-04 0.00000000e+00\n",
      "  0.00000000e+00]\n",
      " [8.20000000e+01 7.66650695e-03 9.58313368e-04 0.00000000e+00\n",
      "  0.00000000e+00]\n",
      " [8.10000000e+01 8.62482032e-03 4.79156684e-04 0.00000000e+00\n",
      "  0.00000000e+00]\n",
      " [7.90000000e+01 8.62482032e-03 1.43747005e-03 0.00000000e+00\n",
      "  0.00000000e+00]\n",
      " [7.20000000e+01 1.14997604e-02 1.91662674e-03 0.00000000e+00\n",
      "  0.00000000e+00]\n",
      " [9.20000000e+01 3.83325347e-03 0.00000000e+00 0.00000000e+00\n",
      "  0.00000000e+00]\n",
      " [8.50000000e+01 6.22903690e-03 4.79156684e-04 4.79156684e-04\n",
      "  0.00000000e+00]\n",
      " [8.40000000e+01 6.70819358e-03 9.58313368e-04 0.00000000e+00\n",
      "  0.00000000e+00]\n",
      " [7.50000000e+01 1.14997604e-02 4.79156684e-04 0.00000000e+00\n",
      "  0.00000000e+00]\n",
      " [8.40000000e+01 7.66650695e-03 0.00000000e+00 0.00000000e+00\n",
      "  0.00000000e+00]\n",
      " [8.10000000e+01 8.14566363e-03 4.79156684e-04 4.79156684e-04\n",
      "  0.00000000e+00]\n",
      " [8.00000000e+01 8.62482032e-03 9.58313368e-04 0.00000000e+00\n",
      "  0.00000000e+00]\n",
      " [7.40000000e+01 9.58313368e-03 2.87494011e-03 0.00000000e+00\n",
      "  0.00000000e+00]\n",
      " [8.20000000e+01 8.62482032e-03 0.00000000e+00 0.00000000e+00\n",
      "  0.00000000e+00]]\n"
     ]
    }
   ],
   "source": [
    "from analysis import calculate_attributes\n",
    "\n",
    "# Initialization parameters\n",
    "start_value = 0\n",
    "end_value = 1\n",
    "step_size = 0.25\n",
    "pbw_rates = np.arange(start_value, end_value + step_size, step_size)\n",
    "num_runs = 5\n",
    "\n",
    "results_solute = []\n",
    "\n",
    "for _ in range(num_runs):\n",
    "    print(f\"Run number {_ + 1}\")\n",
    "    for pbw in pbw_rates:\n",
    "        print(f\"Running simulation at pbw = {pbw}\")\n",
    "        ca_grid = CA_grid()\n",
    "        ca_rules = CA_rules(ca_grid, pbw=pbw)\n",
    "        final_grid = ca_rules.generate_simulation()\n",
    "        f_o, f_1, f_2, f_3, f_4 = calculate_attributes(grid=ca_grid, rules=ca_rules)\n",
    "        output = np.array([f_o, f_1, f_2, f_3, f_4])\n",
    "        results_solute.append(output)\n",
    "\n",
    "        # plt.imshow(final_grid)\n",
    "        # plt.show()\n",
    "        \n",
    "results_solute = np.array(results_solute)\n",
    "print(results_solute)\n"
   ]
  },
  {
   "cell_type": "code",
   "execution_count": 1,
   "metadata": {},
   "outputs": [
    {
     "ename": "NameError",
     "evalue": "name 'results_solute' is not defined",
     "output_type": "error",
     "traceback": [
      "\u001b[1;31m---------------------------------------------------------------------------\u001b[0m",
      "\u001b[1;31mNameError\u001b[0m                                 Traceback (most recent call last)",
      "\u001b[1;32m~\\AppData\\Local\\Temp/ipykernel_24348/627162522.py\u001b[0m in \u001b[0;36m<module>\u001b[1;34m\u001b[0m\n\u001b[1;32m----> 1\u001b[1;33m \u001b[0mprint\u001b[0m\u001b[1;33m(\u001b[0m\u001b[0mresults_solute\u001b[0m\u001b[1;33m[\u001b[0m\u001b[1;33m:\u001b[0m\u001b[1;33m:\u001b[0m\u001b[1;36m5\u001b[0m\u001b[1;33m,\u001b[0m \u001b[1;36m0\u001b[0m\u001b[1;33m]\u001b[0m\u001b[1;33m)\u001b[0m  \u001b[1;31m# This is the f_o_solute values at pbw=0 for each run\u001b[0m\u001b[1;33m\u001b[0m\u001b[1;33m\u001b[0m\u001b[0m\n\u001b[0m\u001b[0;32m      2\u001b[0m \u001b[0mprint\u001b[0m\u001b[1;33m(\u001b[0m\u001b[0mresults_solute\u001b[0m\u001b[1;33m[\u001b[0m\u001b[1;36m1\u001b[0m\u001b[1;33m:\u001b[0m\u001b[1;33m:\u001b[0m\u001b[1;36m5\u001b[0m\u001b[1;33m,\u001b[0m \u001b[1;36m0\u001b[0m\u001b[1;33m]\u001b[0m\u001b[1;33m)\u001b[0m  \u001b[1;31m# This is the f_o_solute values at pbw=0.25 for each run\u001b[0m\u001b[1;33m\u001b[0m\u001b[1;33m\u001b[0m\u001b[0m\n\u001b[0;32m      3\u001b[0m \u001b[0mprint\u001b[0m\u001b[1;33m(\u001b[0m\u001b[0mresults_solute\u001b[0m\u001b[1;33m[\u001b[0m\u001b[1;36m2\u001b[0m\u001b[1;33m:\u001b[0m\u001b[1;33m:\u001b[0m\u001b[1;36m5\u001b[0m\u001b[1;33m,\u001b[0m \u001b[1;36m0\u001b[0m\u001b[1;33m]\u001b[0m\u001b[1;33m)\u001b[0m  \u001b[1;31m# This is the f_o_solute values at pbw=0.5 for each run\u001b[0m\u001b[1;33m\u001b[0m\u001b[1;33m\u001b[0m\u001b[0m\n\u001b[0;32m      4\u001b[0m \u001b[0mprint\u001b[0m\u001b[1;33m(\u001b[0m\u001b[0mresults_solute\u001b[0m\u001b[1;33m[\u001b[0m\u001b[1;36m3\u001b[0m\u001b[1;33m:\u001b[0m\u001b[1;33m:\u001b[0m\u001b[1;36m5\u001b[0m\u001b[1;33m,\u001b[0m \u001b[1;36m0\u001b[0m\u001b[1;33m]\u001b[0m\u001b[1;33m)\u001b[0m  \u001b[1;31m# This is the f_o_solute values at pbw=0.75 for each run\u001b[0m\u001b[1;33m\u001b[0m\u001b[1;33m\u001b[0m\u001b[0m\n\u001b[0;32m      5\u001b[0m \u001b[0mprint\u001b[0m\u001b[1;33m(\u001b[0m\u001b[0mresults_solute\u001b[0m\u001b[1;33m[\u001b[0m\u001b[1;36m4\u001b[0m\u001b[1;33m:\u001b[0m\u001b[1;33m:\u001b[0m\u001b[1;36m5\u001b[0m\u001b[1;33m,\u001b[0m \u001b[1;36m0\u001b[0m\u001b[1;33m]\u001b[0m\u001b[1;33m)\u001b[0m  \u001b[1;31m# This is the f_o_solute values at pbw=1 for each run\u001b[0m\u001b[1;33m\u001b[0m\u001b[1;33m\u001b[0m\u001b[0m\n",
      "\u001b[1;31mNameError\u001b[0m: name 'results_solute' is not defined"
     ]
    }
   ],
   "source": [
    "\n",
    "print(results_solute[::5, 0])  # This is the f_o_solute values at pbw=0 for each run\n",
    "print(results_solute[1::5, 0])  # This is the f_o_solute values at pbw=0.25 for each run\n",
    "print(results_solute[2::5, 0])  # This is the f_o_solute values at pbw=0.5 for each run\n",
    "print(results_solute[3::5, 0])  # This is the f_o_solute values at pbw=0.75 for each run\n",
    "print(results_solute[4::5, 0])  # This is the f_o_solute values at pbw=1 for each run\n",
    "\n",
    "plt.figure(figsize=(16, 8), dpi=300)\n",
    "\n",
    "mean_f_o = []\n",
    "ci_low_f_o = []\n",
    "ci_upp_f_o = []\n",
    "\n",
    "pbw_rates1 = np.unique(pbw_rates)\n",
    "\n",
    "for i, pbw_value in enumerate(pbw_rates1):\n",
    "    f_o_pbw = results_solute[i::len(pbw_rates1), 0]\n",
    "    f_1_pbw = results_solute[i::len(pbw_rates1), 1]\n",
    "    f_2_pbw = results_solute[i::len(pbw_rates1), 2]\n",
    "    f_3_pbw = results_solute[i::len(pbw_rates1), 3]\n",
    "    f_4_pbw = results_solute[i::len(pbw_rates1), 4]\n",
    "\n",
    "\n",
    "    print(f\"At pbw={pbw_value}, f_o_solute values: {f_o_pbw}\")\n",
    "\n",
    "    mean_f_o_pbw = statistics.mean(f_o_pbw)\n",
    "    std_f_o_pbw = statistics.stdev(f_o_pbw)\n",
    "    ci_low, ci_upp = scipy.stats.t.interval(0.95, len(f_o_pbw) - 1,\n",
    "                                            loc=mean_f_o_pbw,\n",
    "                                            scale=std_f_o_pbw / np.sqrt(len(f_o_pbw)))\n",
    "    \n",
    "    print(f\"Mean f_o_solute: {mean_f_o_pbw}\")\n",
    "    print(f\"Standard deviation f_o_solute: {std_f_o_pbw}\")\n",
    "    print(f\"Confidence interval: {ci_low}, {ci_upp}\")\n",
    "\n",
    "    mean_f_o.append(mean_f_o_pbw)\n",
    "    ci_low_f_o.append(ci_low)\n",
    "    ci_upp_f_o.append(ci_upp)\n",
    "\n",
    "    plt.plot(pbw_rates1, mean_f_o, color='blue')\n",
    "    plt.fill_between(pbw_rates1, ci_low_f_o, ci_upp_f_o, color='lightblue', alpha=0.2)\n",
    "\n",
    "plt.xlabel(\"$P_B(W)$ values\", fontsize=16, fontweight='bold')\n",
    "plt.ylabel(\"Fraction of unbound solutes\", fontsize=16, fontweight='bold')\n",
    "plt.title(\"Effect of water temperature on solubility\", fontsize=20, fontweight='bold')\n",
    "plt.grid(True)\n",
    "plt.legend(loc='upper right', prop={\"size\":14})\n",
    "plt.show()\n"
   ]
  },
  {
   "cell_type": "markdown",
   "metadata": {},
   "source": [
    "### <font color = Pink > **Influence of Solute Concentration** </font>"
   ]
  },
  {
   "cell_type": "code",
   "execution_count": 2,
   "metadata": {},
   "outputs": [
    {
     "name": "stdout",
     "output_type": "stream",
     "text": [
      "Running simulation with 0.1 pbwl value.\n",
      "Running simulation with 0.1 pbwl value.\n",
      "Running simulation with 0.1 pbwl value.\n",
      "Running simulation with 0.1 pbwl value.\n",
      "Running simulation with 0.1 pbwl value.\n",
      "Running simulation with 0.2 pbwl value.\n",
      "Running simulation with 0.2 pbwl value.\n",
      "Running simulation with 0.2 pbwl value.\n",
      "Running simulation with 0.2 pbwl value.\n",
      "Running simulation with 0.2 pbwl value.\n",
      "Running simulation with 0.3 pbwl value.\n",
      "Running simulation with 0.3 pbwl value.\n",
      "Running simulation with 0.3 pbwl value.\n",
      "Running simulation with 0.3 pbwl value.\n",
      "Running simulation with 0.3 pbwl value.\n",
      "Running simulation with 0.4 pbwl value.\n",
      "Running simulation with 0.4 pbwl value.\n",
      "Running simulation with 0.4 pbwl value.\n",
      "Running simulation with 0.4 pbwl value.\n",
      "Running simulation with 0.4 pbwl value.\n",
      "Running simulation with 0.5 pbwl value.\n",
      "Running simulation with 0.5 pbwl value.\n",
      "Running simulation with 0.5 pbwl value.\n",
      "Running simulation with 0.5 pbwl value.\n",
      "Running simulation with 0.5 pbwl value.\n",
      "Running simulation with 0.6 pbwl value.\n",
      "Running simulation with 0.6 pbwl value.\n",
      "Running simulation with 0.6 pbwl value.\n",
      "Running simulation with 0.6 pbwl value.\n",
      "Running simulation with 0.6 pbwl value.\n",
      "Running simulation with 0.7 pbwl value.\n",
      "Running simulation with 0.7 pbwl value.\n",
      "Running simulation with 0.7 pbwl value.\n",
      "Running simulation with 0.7 pbwl value.\n",
      "Running simulation with 0.7 pbwl value.\n",
      "Running simulation with 0.8 pbwl value.\n",
      "Running simulation with 0.8 pbwl value.\n",
      "Running simulation with 0.8 pbwl value.\n",
      "Running simulation with 0.8 pbwl value.\n",
      "Running simulation with 0.8 pbwl value.\n",
      "Running simulation with 0.9 pbwl value.\n",
      "Running simulation with 0.9 pbwl value.\n",
      "Running simulation with 0.9 pbwl value.\n",
      "Running simulation with 0.9 pbwl value.\n",
      "Running simulation with 0.9 pbwl value.\n",
      "pbwl value: 0.1\n",
      "Average: 6557.2\n",
      "Standard Deviation: 139.76322835424202\n",
      "\n",
      "pbwl value: 0.2\n",
      "Average: 6601.2\n",
      "Standard Deviation: 119.92397591807904\n",
      "\n",
      "pbwl value: 0.3\n",
      "Average: 6565.6\n",
      "Standard Deviation: 149.9941332186029\n",
      "\n",
      "pbwl value: 0.4\n",
      "Average: 6668.4\n",
      "Standard Deviation: 173.2161655273549\n",
      "\n",
      "pbwl value: 0.5\n",
      "Average: 6648.4\n",
      "Standard Deviation: 168.0257123180854\n",
      "\n",
      "pbwl value: 0.6\n",
      "Average: 6576.8\n",
      "Standard Deviation: 110.92772421716764\n",
      "\n",
      "pbwl value: 0.7\n",
      "Average: 6684.0\n",
      "Standard Deviation: 213.15534241486887\n",
      "\n",
      "pbwl value: 0.8\n",
      "Average: 6569.6\n",
      "Standard Deviation: 61.98580482658913\n",
      "\n",
      "pbwl value: 0.9\n",
      "Average: 6619.6\n",
      "Standard Deviation: 121.49995884772966\n",
      "\n"
     ]
    }
   ],
   "source": [
    "from analysis import count_neighbours\n",
    " \n",
    "pbwl_values = [0.1, 0.2, 0.3, 0.4, 0.5, 0.6, 0.7, 0.8, 0.9] \n",
    "results = []\n",
    "\n",
    "runs = 5\n",
    "\n",
    "all_results = {pbwl: [] for pbwl in pbwl_values}\n",
    "total_molecules = 2087 # 55x55x0.69\n",
    "\n",
    "for pbwl_value in pbwl_values:\n",
    "    \n",
    "    pbwl_results = []\n",
    "\n",
    "    for run in range(runs):\n",
    "        print(f\"Running simulation with {pbwl_value} pbwl value.\")\n",
    "        ca_grid = CA_grid()\n",
    "        ca_rules = CA_rules(ca_grid, pbw=0.4, pbwl=pbwl_value, pbl_parameter=False, pbwl_parameter=True)\n",
    "\n",
    "        final_grid = ca_rules.generate_simulation(pbwl=pbwl_value, pbw=0.4)\n",
    "\n",
    "        count = count_neighbours(ca_grid.grid, ca_grid.height, ca_grid.width, cell_type=1)\n",
    "        pbwl_results.append(count)\n",
    "\n",
    "    pbwl_results = np.array(pbwl_results)\n",
    "\n",
    "    average_results = np.mean(pbwl_results, axis=0)\n",
    "    std_dev_results = np.std(pbwl_results, axis=0)\n",
    "\n",
    "    all_results[pbwl_value] = {\n",
    "        'average': average_results,\n",
    "        'std_dev': std_dev_results\n",
    "    }\n",
    "\n",
    "for pbwl_value, data in all_results.items():\n",
    "    print(f\"pbwl value: {pbwl_value}\")\n",
    "    print(f\"Average: {data['average']}\")\n",
    "    print(f\"Standard Deviation: {data['std_dev']}\")\n",
    "    print()"
   ]
  },
  {
   "cell_type": "code",
   "execution_count": 3,
   "metadata": {},
   "outputs": [
    {
     "data": {
      "image/png": "[encoded data removed]",
      "text/plain": [
       "<Figure size 432x288 with 1 Axes>"
      ]
     },
     "metadata": {
      "needs_background": "light"
     },
     "output_type": "display_data"
    }
   ],
   "source": [
    "pbwl_values_percent = [value for value in pbwl_values]  # Convert to percentage\n",
    "\n",
    "# Extract averages and standard deviations for plotting\n",
    "averages = [all_results[pbwl]['average'] for pbwl in pbwl_values]\n",
    "std_devs = [all_results[pbwl]['std_dev'] for pbwl in pbwl_values]\n",
    "\n",
    "# Calculate confidence interval for error bars\n",
    "num_runs = 5\n",
    "confidence_interval = 1.96 * np.array(std_devs) / np.sqrt(num_runs)\n",
    "\n",
    "# Calculate lower and upper bounds for the confidence interval\n",
    "lower_bound = np.array(averages) - confidence_interval\n",
    "upper_bound = np.array(averages) + confidence_interval\n",
    "\n",
    "# Plotting\n",
    "plt.plot(pbwl_values_percent, averages, label='Neighbor Count')\n",
    "plt.fill_between(pbwl_values_percent, lower_bound, upper_bound, alpha=0.2)\n",
    "\n",
    "# Setting plot attributes\n",
    "plt.xlabel('$P_b(WL)$', fontsize=14, fontweight='bold')\n",
    "plt.ylabel('Average Neighbor Count', fontsize=14, fontweight='bold')\n",
    "plt.title('Effect of $P_b(WL)$ on Neighbour Count', fontsize=16, fontweight='bold')\n",
    "plt.xticks(fontsize=10)\n",
    "plt.yticks(fontsize=10)\n",
    "# plt.legend(fontsize=10)\n",
    "plt.grid(True, which='both', linestyle='--', linewidth=0.5)\n",
    "plt.tight_layout()\n",
    "plt.show()\n"
   ]
  },
  {
   "cell_type": "code",
   "execution_count": 24,
   "metadata": {},
   "outputs": [
    {
     "name": "stdout",
     "output_type": "stream",
     "text": [
      "Running simulation with 0 solute molecules.\n",
      "Running simulation with 50 solute molecules.\n",
      "[[0.0005 0.0155 0.122  0.3645 0.4975]\n",
      " [0.001  0.023  0.1535 0.352  0.4455]]\n"
     ]
    }
   ],
   "source": [
    "from analysis import calculate_attributes\n",
    "\n",
    "solute_concentrations = [0, 50] #, 100, 150, 200, 250, 300, 350, 400, 450, 500, 550, 600, 650, 700, 750, 800, 850, 900]\n",
    "results = []\n",
    "for solute_amount in solute_concentrations:\n",
    "    print(f\"Running simulation with {solute_amount} solute molecules.\")\n",
    "    ca_grid = CA_grid(solute_amount=solute_amount)\n",
    "    ca_rules = CA_rules(ca_grid)\n",
    "    final_grid = ca_rules.generate_simulation()\n",
    "\n",
    "    f_o, f_1, f_2, f_3, f_4 = calculate_attributes(grid=ca_grid, rules=ca_rules)\n",
    "    output = np.array([f_o, f_1, f_2, f_3, f_4])\n",
    "    results.append(output)\n",
    "\n",
    "results = np.array(results)\n",
    "print(results)\n"
   ]
  },
  {
   "cell_type": "code",
   "execution_count": 25,
   "metadata": {},
   "outputs": [
    {
     "name": "stdout",
     "output_type": "stream",
     "text": [
      "[0.0005 0.001 ]\n"
     ]
    }
   ],
   "source": [
    "print(results.T[0])"
   ]
  },
  {
   "cell_type": "code",
   "execution_count": 1,
   "metadata": {},
   "outputs": [
    {
     "ename": "NameError",
     "evalue": "name 'plt' is not defined",
     "output_type": "error",
     "traceback": [
      "\u001b[1;31m---------------------------------------------------------------------------\u001b[0m",
      "\u001b[1;31mNameError\u001b[0m                                 Traceback (most recent call last)",
      "\u001b[1;32m~\\AppData\\Local\\Temp/ipykernel_10868/1657031015.py\u001b[0m in \u001b[0;36m<module>\u001b[1;34m\u001b[0m\n\u001b[1;32m----> 1\u001b[1;33m \u001b[0mplt\u001b[0m\u001b[1;33m.\u001b[0m\u001b[0mplot\u001b[0m\u001b[1;33m(\u001b[0m\u001b[0msolute_concentrations\u001b[0m\u001b[1;33m,\u001b[0m \u001b[0mresults\u001b[0m\u001b[1;33m.\u001b[0m\u001b[0mT\u001b[0m\u001b[1;33m[\u001b[0m\u001b[1;36m0\u001b[0m\u001b[1;33m]\u001b[0m\u001b[1;33m,\u001b[0m \u001b[0mlabel\u001b[0m\u001b[1;33m=\u001b[0m\u001b[1;34m'$f_0$'\u001b[0m\u001b[1;33m)\u001b[0m\u001b[1;33m\u001b[0m\u001b[1;33m\u001b[0m\u001b[0m\n\u001b[0m\u001b[0;32m      2\u001b[0m \u001b[0mplt\u001b[0m\u001b[1;33m.\u001b[0m\u001b[0mplot\u001b[0m\u001b[1;33m(\u001b[0m\u001b[0msolute_concentrations\u001b[0m\u001b[1;33m,\u001b[0m \u001b[0mresults\u001b[0m\u001b[1;33m.\u001b[0m\u001b[0mT\u001b[0m\u001b[1;33m[\u001b[0m\u001b[1;36m1\u001b[0m\u001b[1;33m]\u001b[0m\u001b[1;33m,\u001b[0m \u001b[0mlabel\u001b[0m\u001b[1;33m=\u001b[0m\u001b[1;34m'$f_1$'\u001b[0m\u001b[1;33m)\u001b[0m\u001b[1;33m\u001b[0m\u001b[1;33m\u001b[0m\u001b[0m\n\u001b[0;32m      3\u001b[0m \u001b[0mplt\u001b[0m\u001b[1;33m.\u001b[0m\u001b[0mplot\u001b[0m\u001b[1;33m(\u001b[0m\u001b[0msolute_concentrations\u001b[0m\u001b[1;33m,\u001b[0m \u001b[0mresults\u001b[0m\u001b[1;33m.\u001b[0m\u001b[0mT\u001b[0m\u001b[1;33m[\u001b[0m\u001b[1;36m2\u001b[0m\u001b[1;33m]\u001b[0m\u001b[1;33m,\u001b[0m \u001b[0mlabel\u001b[0m\u001b[1;33m=\u001b[0m\u001b[1;34m'$f_2$'\u001b[0m\u001b[1;33m)\u001b[0m\u001b[1;33m\u001b[0m\u001b[1;33m\u001b[0m\u001b[0m\n\u001b[0;32m      4\u001b[0m \u001b[0mplt\u001b[0m\u001b[1;33m.\u001b[0m\u001b[0mplot\u001b[0m\u001b[1;33m(\u001b[0m\u001b[0msolute_concentrations\u001b[0m\u001b[1;33m,\u001b[0m \u001b[0mresults\u001b[0m\u001b[1;33m.\u001b[0m\u001b[0mT\u001b[0m\u001b[1;33m[\u001b[0m\u001b[1;36m3\u001b[0m\u001b[1;33m]\u001b[0m\u001b[1;33m,\u001b[0m \u001b[0mlabel\u001b[0m\u001b[1;33m=\u001b[0m\u001b[1;34m'$f_3$'\u001b[0m\u001b[1;33m)\u001b[0m\u001b[1;33m\u001b[0m\u001b[1;33m\u001b[0m\u001b[0m\n\u001b[0;32m      5\u001b[0m \u001b[0mplt\u001b[0m\u001b[1;33m.\u001b[0m\u001b[0mplot\u001b[0m\u001b[1;33m(\u001b[0m\u001b[0msolute_concentrations\u001b[0m\u001b[1;33m,\u001b[0m \u001b[0mresults\u001b[0m\u001b[1;33m.\u001b[0m\u001b[0mT\u001b[0m\u001b[1;33m[\u001b[0m\u001b[1;36m4\u001b[0m\u001b[1;33m]\u001b[0m\u001b[1;33m,\u001b[0m \u001b[0mlabel\u001b[0m\u001b[1;33m=\u001b[0m\u001b[1;34m'$f_4$'\u001b[0m\u001b[1;33m)\u001b[0m\u001b[1;33m\u001b[0m\u001b[1;33m\u001b[0m\u001b[0m\n",
      "\u001b[1;31mNameError\u001b[0m: name 'plt' is not defined"
     ]
    }
   ],
   "source": [
    "\n",
    "plt.plot(solute_concentrations, results.T[0], label='$f_0$')\n",
    "plt.plot(solute_concentrations, results.T[1], label='$f_1$')\n",
    "plt.plot(solute_concentrations, results.T[2], label='$f_2$')\n",
    "plt.plot(solute_concentrations, results.T[3], label='$f_3$')\n",
    "plt.plot(solute_concentrations, results.T[4], label='$f_4$')\n",
    "plt.legend()\n",
    "plt.show()"
   ]
  },
  {
   "cell_type": "markdown",
   "metadata": {},
   "source": [
    "### <font color = Pink > **Influence of Water-Solute Breaking Probability** </font>"
   ]
  },
  {
   "cell_type": "code",
   "execution_count": null,
   "metadata": {},
   "outputs": [],
   "source": []
  },
  {
   "cell_type": "markdown",
   "metadata": {},
   "source": [
    "### Counting of unbound water molecules"
   ]
  }
 ],
 "metadata": {
  "kernelspec": {
   "display_name": "Python 3",
   "language": "python",
   "name": "python3"
  },
  "language_info": {
   "codemirror_mode": {
    "name": "ipython",
    "version": 3
   },
   "file_extension": ".py",
   "mimetype": "text/x-python",
   "name": "python",
   "nbconvert_exporter": "python",
   "pygments_lexer": "ipython3",
   "version": "3.9.7"
  }
 },
 "nbformat": 4,
 "nbformat_minor": 2
}
