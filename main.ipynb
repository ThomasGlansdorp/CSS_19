{
 "cells": [
  {
   "cell_type": "markdown",
   "metadata": {},
   "source": [
    "# <font color = LightGreen > **CA model of water dynamics and hydrophobic interactions** </font>"
   ]
  },
  {
   "cell_type": "markdown",
   "metadata": {},
   "source": [
    "Authors:\n",
    "- H. Malash, 15179192\n",
    "- S. Bhusal, 14724383\n",
    "- L. Pahladsingh, 13846566\n",
    "- T. Glansdorp, 12748587"
   ]
  },
  {
   "cell_type": "code",
   "execution_count": null,
   "metadata": {},
   "outputs": [],
   "source": [
    "from model import CA_rules, CA_grid, CA_rules_only_water\n",
    "import analysis\n",
    "import numpy as np\n",
    "import matplotlib.pyplot as plt\n",
    "import random"
   ]
  },
  {
   "cell_type": "markdown",
   "metadata": {},
   "source": [
    "## <font color = LightBlue > **Background Information** </font>"
   ]
  },
  {
   "cell_type": "markdown",
   "metadata": {},
   "source": [
    "Our cellular automaton (CA) model simulating an aqueous solution consists of a grid, representing the surface of a torus. Each cell, denoted as '$\\textit{i}$' is surrounded by four neighbors '$\\textit{j}$ ', and there is an additional cell two positions beyond '$\\textit{i}$ ', labeled as '$\\textit{k}$ '. We interpret the cell indicated by 'j' as the von Neumann neighborhood, and the cell indicated by 'k' as the extended von Neumann neighborhood.\n",
    "\n",
    "The state of each cell, represented by binary numbers, signifies its occupancy. There are three possible options for occupancy within the system:\n",
    "\n",
    "- An empty cell is denoted by 0.\n",
    "- A cell containing water is indicated by 1.\n",
    "- A cell containing solute is indicated by 2.\n",
    "\n",
    "In our model, two parameters influence the movement of molecules within the grid: the $\\textbf{breaking probability}$ ($P_B$) and the $\\textbf{joining probability}$ ($J$). The combination of these probabilities determines the behavior of cell movement.\n",
    "\n",
    "The $\\textbf{breaking probability}$ ($P_B$) represents the probability of a molecule in cell $\\textit{i}$ breaking away from a molecule in cell $\\textit{j}$ when only one $\\textit{j}$ cell is occupied. We have defined three specific breaking probabilities:\n",
    "\n",
    "- $P_B(W)$: Water-water breaking probability\n",
    "- $P_B(L)$: Solute-solute breaking probability\n",
    "- $P_B(WL)$: Water-solute breaking probability\n",
    "\n",
    "The  $\\textbf{joining probability}$ ($J$) quantifies the ratio between the likelihood of a molecule at $\\textit{i}$  moving towards an occupied $\\textit{k}$ cell when $\\textit{j}$  is empty and the probability of the same molecule at $\\textit{i}$  moving towards an empty $\\textit{k}$  cell when $\\textit{j}$  is unoccupied. \n",
    "\n",
    " is a positive number, when ($J=1$), it indicated that a molecule at $\\textit{i}$ has the same probability to move towards an occupied $\\textit{k}$ as when $\\textit{k}$ is empty. So the state of cell $\\textit{k}$ does not matter. \n",
    "\n",
    "The parameter ($J$) is a positive number. When $J=1$, it signifies that a molecule at $\\textit{i}$ has an equal probability of moving towards an occupied $\\textit{k}$ as when $\\textit{k}$ is empty. In this case, the state of cell $\\textit{k}$ does not influence the movement probability. As before we have three distinct joining probabilities: $J(W)$, $J(L)$ and $J(WL)$.\n",
    "\n",
    "### <font> **Moving probability** </font> \n",
    "Combining $P_B$ and $J$, we obtaining the moving probability of a cell $p_m$: </br>\n",
    "$p_m$ = sum of $p_m(d)$ over all possible $\\textit{d}$ if the sum <1,\n",
    "else 1 </br>\n",
    "\n",
    "with\n",
    "\n",
    "$p_m(d) = 1 / (1 + ((4-n)/(P_B^n) - 1) / J(d)) $ </br>\n",
    "if n < 4 and $P_B$ > 0  </br>\n",
    "\n",
    "$\\textit{n}$ indicating the number of occupied $\\textit{j}$ cells, there are $4-n$ directions for $\\textit{i}$ to move. \n",
    "\n",
    "In the case where $J=1$, the moving probability ($p_m$) is equal to $P_B^n$. Given that all our research accepts this condition, we will focus on working with joint probabilities involving only $P_B$ to calculate the moving probability of a molecule.\n",
    "\n",
    "$\\textit{Information mainly based on}$: </br>\n",
    "Kier, L. B., & Cheng, C. K. (1994). A Cellular Automata Model of an Aqueous Solution, Journal of Chemical Information and Computer Science.  34, 1334-1337\n"
   ]
  },
  {
   "cell_type": "markdown",
   "metadata": {},
   "source": [
    "## <font color = LightBlue > **Water Grid** </font>"
   ]
  },
  {
   "cell_type": "markdown",
   "metadata": {},
   "source": [
    "## <font color = LightBlue > **Water-Solute Grid** </font>"
   ]
  },
  {
   "cell_type": "markdown",
   "metadata": {},
   "source": [
    "### <font color = Pink > **Influence of Water temperature on solubility** </font>"
   ]
  },
  {
   "cell_type": "markdown",
   "metadata": {},
   "source": [
    "### <font color = Pink > **Influence of Solute Concentration** </font>"
   ]
  },
  {
   "cell_type": "markdown",
   "metadata": {},
   "source": [
    "### <font color = Pink > **Influence of Water-Solute Breaking Probability** </font>"
   ]
  },
  {
   "cell_type": "markdown",
   "metadata": {},
   "source": [
    "### Counting of unbound water molecules"
   ]
  },
  {
   "cell_type": "code",
   "execution_count": 4,
   "metadata": {},
   "outputs": [
    {
     "ename": "NameError",
     "evalue": "name 'CA_rules_only_water' is not defined",
     "output_type": "error",
     "traceback": [
      "\u001b[1;31m---------------------------------------------------------------------------\u001b[0m",
      "\u001b[1;31mNameError\u001b[0m                                 Traceback (most recent call last)",
      "Cell \u001b[1;32mIn[4], line 1\u001b[0m\n\u001b[1;32m----> 1\u001b[0m see_grid \u001b[38;5;241m=\u001b[39m \u001b[43mCA_rules_only_water\u001b[49m(CA_grid())\u001b[38;5;241m.\u001b[39mgenerate_simulation()\n\u001b[0;32m      2\u001b[0m plt\u001b[38;5;241m.\u001b[39mimshow(see_grid)\n\u001b[0;32m      3\u001b[0m plt\u001b[38;5;241m.\u001b[39mshow()\n",
      "\u001b[1;31mNameError\u001b[0m: name 'CA_rules_only_water' is not defined"
     ]
    }
   ],
   "source": [
    "see_grid = CA_rules_only_water(CA_grid()).generate_simulation()\n",
    "plt.imshow(see_grid)\n",
    "plt.show()\n",
    "total_height = 55\n",
    "total_width = 55\n",
    "\n",
    "unbound_water = analysis.count_unbound_water(see_grid, total_height, total_width)"
   ]
  }
 ],
 "metadata": {
  "kernelspec": {
   "display_name": "Python 3",
   "language": "python",
   "name": "python3"
  },
  "language_info": {
   "codemirror_mode": {
    "name": "ipython",
    "version": 3
   },
   "file_extension": ".py",
   "mimetype": "text/x-python",
   "name": "python",
   "nbconvert_exporter": "python",
   "pygments_lexer": "ipython3",
   "version": "3.9.7"
  }
 },
 "nbformat": 4,
 "nbformat_minor": 2
}
