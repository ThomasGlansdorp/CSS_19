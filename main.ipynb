{
 "cells": [
  {
   "cell_type": "markdown",
   "metadata": {},
   "source": [
    "# <font color = LightGreen > **CA model of water dynamics and hydrophobic interactions** </font>"
   ]
  },
  {
   "cell_type": "markdown",
   "metadata": {},
   "source": [
    "Authors:\n",
    "- H. Malash, 15179192\n",
    "- S. Bhusal, 14724383\n",
    "- L. Pahladsingh, studentnumber\n",
    "- T. Glansdorp, 12748587"
   ]
  },
  {
   "cell_type": "code",
   "execution_count": 4,
   "metadata": {},
   "outputs": [
    {
     "data": {
      "image/png": "[encoded data removed]",
      "text/plain": [
       "<Figure size 432x288 with 1 Axes>"
      ]
     },
     "metadata": {
      "needs_background": "light"
     },
     "output_type": "display_data"
    },
    {
     "data": {
      "image/png": "[encoded data removed]",
      "text/plain": [
       "<Figure size 432x288 with 1 Axes>"
      ]
     },
     "metadata": {
      "needs_background": "light"
     },
     "output_type": "display_data"
    }
   ],
   "source": [
    "from model import CA_rules, CA_grid, CA_rules_only_water\n",
    "import analysis\n",
    "import numpy as np\n",
    "import matplotlib.pyplot as plt\n",
    "import random\n",
    "import statistics\n",
    "import math "
   ]
  },
  {
   "cell_type": "markdown",
   "metadata": {},
   "source": [
    "## <font color = LightBlue > **Background Information** </font>"
   ]
  },
  {
   "cell_type": "markdown",
   "metadata": {},
   "source": [
    "Our cellular automaton (CA) model simulating an aqueous solution consists of a grid, representing the surface of a torus. Each cell, denoted as '$\\textit{i}$' is surrounded by four neighbors '$\\textit{j}$ ', and there is an additional cell two positions beyond '$\\textit{i}$ ', labeled as '$\\textit{k}$ '. We interpret the cell indicated by 'j' as the von Neumann neighborhood, and the cell indicated by 'k' as the extended von Neumann neighborhood.\n",
    "\n",
    "The state of each cell, represented by binary numbers, signifies its occupancy. There are three possible options for occupancy within the system:\n",
    "\n",
    "- An empty cell is denoted by 0.\n",
    "- A cell containing water is indicated by 1.\n",
    "- A cell containing solute is indicated by 2.\n",
    "\n",
    "In our model, two parameters influence the movement of molecules within the grid: the $\\textbf{breaking probability}$ ($P_B$) and the $\\textbf{joining probability}$ ($J$). The combination of these probabilities determines the behavior of cell movement.\n",
    "\n",
    "The $\\textbf{breaking probability}$ ($P_B$) represents the probability of a molecule in cell $\\textit{i}$ breaking away from a molecule in cell $\\textit{j}$ when only one $\\textit{j}$ cell is occupied. We have defined three specific breaking probabilities:\n",
    "\n",
    "- $P_B(W)$: Water-water breaking probability\n",
    "- $P_B(L)$: Solute-solute breaking probability\n",
    "- $P_B(WL)$: Water-solute breaking probability\n",
    "\n",
    "The  $\\textbf{joining probability}$ ($J$) quantifies the ratio between the likelihood of a molecule at $\\textit{i}$  moving towards an occupied $\\textit{k}$ cell when $\\textit{j}$  is empty and the probability of the same molecule at $\\textit{i}$  moving towards an empty $\\textit{k}$  cell when $\\textit{j}$  is unoccupied. \n",
    "\n",
    " is a positive number, when ($J=1$), it indicated that a molecule at $\\textit{i}$ has the same probability to move towards an occupied $\\textit{k}$ as when $\\textit{k}$ is empty. So the state of cell $\\textit{k}$ does not matter. \n",
    "\n",
    "The parameter ($J$) is a positive number. When $J=1$, it signifies that a molecule at $\\textit{i}$ has an equal probability of moving towards an occupied $\\textit{k}$ as when $\\textit{k}$ is empty. In this case, the state of cell $\\textit{k}$ does not influence the movement probability. As before we have three distinct joining probabilities: $J(W)$, $J(L)$ and $J(WL)$.\n",
    "\n",
    "### <font> **Moving probability** </font> \n",
    "Combining $P_B$ and $J$, we obtaining the moving probability of a cell $p_m$: </br>\n",
    "$p_m$ = sum of $p_m(d)$ over all possible $\\textit{d}$ if the sum <1,\n",
    "else 1 </br>\n",
    "\n",
    "with\n",
    "\n",
    "$p_m(d) = 1 / (1 + ((4-n)/(P_B^n) - 1) / J(d)) $ </br>\n",
    "if n < 4 and $P_B$ > 0  </br>\n",
    "\n",
    "$\\textit{n}$ indicating the number of occupied $\\textit{j}$ cells, there are $4-n$ directions for $\\textit{i}$ to move. \n",
    "\n",
    "In the case where $J=1$, the moving probability ($p_m$) is equal to $P_B^n$. Given that all our research accepts this condition, we will focus on working with joint probabilities involving only $P_B$ to calculate the moving probability of a molecule.\n",
    "\n",
    "$\\textit{Information mainly based on}$: </br>\n",
    "Kier, L. B., & Cheng, C. K. (1994). A Cellular Automata Model of an Aqueous Solution, Journal of Chemical Information and Computer Science.  34, 1334-1337\n"
   ]
  },
  {
   "cell_type": "markdown",
   "metadata": {},
   "source": [
    "## <font color = LightBlue > **Water Grid** </font>"
   ]
  },
  {
   "cell_type": "markdown",
   "metadata": {},
   "source": [
    "## <font color = LightBlue > **Water-Solute Grid** </font>"
   ]
  },
  {
   "cell_type": "markdown",
   "metadata": {},
   "source": [
    "### <font color = Pink > **Influence of Water temperature on solubility** </font>"
   ]
  },
  {
   "cell_type": "code",
   "execution_count": 29,
   "metadata": {},
   "outputs": [
    {
     "data": {
      "image/png": "[encoded data removed]",
      "text/plain": [
       "<Figure size 432x288 with 1 Axes>"
      ]
     },
     "metadata": {
      "needs_background": "light"
     },
     "output_type": "display_data"
    },
    {
     "data": {
      "image/png": "[encoded data removed]",
      "text/plain": [
       "<Figure size 432x288 with 1 Axes>"
      ]
     },
     "metadata": {
      "needs_background": "light"
     },
     "output_type": "display_data"
    },
    {
     "name": "stdout",
     "output_type": "stream",
     "text": [
      "The amount of unbound solvent is 0\n"
     ]
    }
   ],
   "source": [
    "see_grid = CA_rules(CA_grid()).generate_simulation()\n",
    "plt.imshow(see_grid)\n",
    "plt.show()\n",
    "\n",
    "total_height = 55\n",
    "total_width = 55\n",
    "\n",
    "unbound_solvent = analysis.count_unbound_molecule(see_grid, total_height, total_width)\n",
    "print(f\"The amount of unbound solvent is {unbound_solvent}\")\n"
   ]
  },
  {
   "cell_type": "code",
   "execution_count": 27,
   "metadata": {},
   "outputs": [
    {
     "data": {
      "image/png": "[encoded data removed]",
      "text/plain": [
       "<Figure size 432x288 with 1 Axes>"
      ]
     },
     "metadata": {
      "needs_background": "light"
     },
     "output_type": "display_data"
    },
    {
     "data": {
      "image/png": "[encoded data removed]",
      "text/plain": [
       "<Figure size 432x288 with 1 Axes>"
      ]
     },
     "metadata": {
      "needs_background": "light"
     },
     "output_type": "display_data"
    },
    {
     "name": "stdout",
     "output_type": "stream",
     "text": [
      "The amount of unbound solvent solvents for pbw:0.00 is 0\n"
     ]
    },
    {
     "data": {
      "image/png": "[encoded data removed]",
      "text/plain": [
       "<Figure size 432x288 with 1 Axes>"
      ]
     },
     "metadata": {
      "needs_background": "light"
     },
     "output_type": "display_data"
    },
    {
     "ename": "KeyboardInterrupt",
     "evalue": "",
     "output_type": "error",
     "traceback": [
      "\u001b[1;31m---------------------------------------------------------------------------\u001b[0m",
      "\u001b[1;31mKeyboardInterrupt\u001b[0m                         Traceback (most recent call last)",
      "\u001b[1;32m~\\AppData\\Local\\Temp/ipykernel_32908/2549566280.py\u001b[0m in \u001b[0;36m<module>\u001b[1;34m\u001b[0m\n\u001b[0;32m     11\u001b[0m \u001b[1;33m\u001b[0m\u001b[0m\n\u001b[0;32m     12\u001b[0m     \u001b[1;32mfor\u001b[0m \u001b[0mi\u001b[0m \u001b[1;32min\u001b[0m \u001b[0mrange\u001b[0m\u001b[1;33m(\u001b[0m\u001b[0mnum_runs\u001b[0m\u001b[1;33m)\u001b[0m\u001b[1;33m:\u001b[0m\u001b[1;33m\u001b[0m\u001b[1;33m\u001b[0m\u001b[0m\n\u001b[1;32m---> 13\u001b[1;33m         \u001b[0msee_grid\u001b[0m \u001b[1;33m=\u001b[0m \u001b[0mCA_rules\u001b[0m\u001b[1;33m(\u001b[0m\u001b[0mCA_grid\u001b[0m\u001b[1;33m(\u001b[0m\u001b[1;33m)\u001b[0m\u001b[1;33m,\u001b[0m \u001b[0mpbw\u001b[0m\u001b[1;33m=\u001b[0m\u001b[0mpbw\u001b[0m\u001b[1;33m)\u001b[0m\u001b[1;33m.\u001b[0m\u001b[0mgenerate_simulation\u001b[0m\u001b[1;33m(\u001b[0m\u001b[1;33m)\u001b[0m\u001b[1;33m\u001b[0m\u001b[1;33m\u001b[0m\u001b[0m\n\u001b[0m\u001b[0;32m     14\u001b[0m         \u001b[0mplt\u001b[0m\u001b[1;33m.\u001b[0m\u001b[0mimshow\u001b[0m\u001b[1;33m(\u001b[0m\u001b[0msee_grid\u001b[0m\u001b[1;33m)\u001b[0m\u001b[1;33m\u001b[0m\u001b[1;33m\u001b[0m\u001b[0m\n\u001b[0;32m     15\u001b[0m         \u001b[0mplt\u001b[0m\u001b[1;33m.\u001b[0m\u001b[0mtitle\u001b[0m\u001b[1;33m(\u001b[0m\u001b[1;34mf\"$P_B(W) = {pbw:.2f}$\"\u001b[0m\u001b[1;33m)\u001b[0m\u001b[1;33m\u001b[0m\u001b[1;33m\u001b[0m\u001b[0m\n",
      "\u001b[1;32mc:\\Users\\sanjh\\OneDrive - Vrije Universiteit Amsterdam\\CLS Jaar 1\\GitHub\\CSS_19\\model.py\u001b[0m in \u001b[0;36mgenerate_simulation\u001b[1;34m(self, pbw)\u001b[0m\n\u001b[0;32m    203\u001b[0m         \u001b[0mself\u001b[0m\u001b[1;33m.\u001b[0m\u001b[0mpbw\u001b[0m \u001b[1;33m=\u001b[0m \u001b[0mpbw\u001b[0m\u001b[1;33m\u001b[0m\u001b[1;33m\u001b[0m\u001b[0m\n\u001b[0;32m    204\u001b[0m         \u001b[1;32mfor\u001b[0m \u001b[0mi\u001b[0m \u001b[1;32min\u001b[0m \u001b[0mrange\u001b[0m\u001b[1;33m(\u001b[0m\u001b[1;36m1\u001b[0m\u001b[1;33m,\u001b[0m \u001b[1;36m2000\u001b[0m\u001b[1;33m)\u001b[0m\u001b[1;33m:\u001b[0m\u001b[1;33m\u001b[0m\u001b[1;33m\u001b[0m\u001b[0m\n\u001b[1;32m--> 205\u001b[1;33m             \u001b[0mself\u001b[0m\u001b[1;33m.\u001b[0m\u001b[0mgrid\u001b[0m \u001b[1;33m=\u001b[0m \u001b[0mself\u001b[0m\u001b[1;33m.\u001b[0m\u001b[0mstep\u001b[0m\u001b[1;33m(\u001b[0m\u001b[1;33m)\u001b[0m\u001b[1;33m\u001b[0m\u001b[1;33m\u001b[0m\u001b[0m\n\u001b[0m\u001b[0;32m    206\u001b[0m             \u001b[1;31m# print(f'This is iteration {i} of the simulation')\u001b[0m\u001b[1;33m\u001b[0m\u001b[1;33m\u001b[0m\u001b[0m\n\u001b[0;32m    207\u001b[0m         \u001b[1;32mreturn\u001b[0m \u001b[0mself\u001b[0m\u001b[1;33m.\u001b[0m\u001b[0mgrid\u001b[0m\u001b[1;33m\u001b[0m\u001b[1;33m\u001b[0m\u001b[0m\n",
      "\u001b[1;32mc:\\Users\\sanjh\\OneDrive - Vrije Universiteit Amsterdam\\CLS Jaar 1\\GitHub\\CSS_19\\model.py\u001b[0m in \u001b[0;36mstep\u001b[1;34m(self)\u001b[0m\n\u001b[0;32m    119\u001b[0m                 \u001b[1;31m#print(neighbours)\u001b[0m\u001b[1;33m\u001b[0m\u001b[1;33m\u001b[0m\u001b[0m\n\u001b[0;32m    120\u001b[0m \u001b[1;33m\u001b[0m\u001b[0m\n\u001b[1;32m--> 121\u001b[1;33m                 \u001b[1;32mif\u001b[0m \u001b[1;32mnot\u001b[0m \u001b[0many\u001b[0m\u001b[1;33m(\u001b[0m\u001b[1;33m[\u001b[0m\u001b[0mi\u001b[0m\u001b[1;33m[\u001b[0m\u001b[1;36m2\u001b[0m\u001b[1;33m]\u001b[0m \u001b[1;33m==\u001b[0m \u001b[1;36m0\u001b[0m \u001b[1;32mfor\u001b[0m \u001b[0mi\u001b[0m \u001b[1;32min\u001b[0m \u001b[0mneighbours\u001b[0m\u001b[1;33m]\u001b[0m\u001b[1;33m)\u001b[0m\u001b[1;33m:\u001b[0m  \u001b[1;31m# makes new list of boolean expressions if non are true it continues to next step in for loop\u001b[0m\u001b[1;33m\u001b[0m\u001b[1;33m\u001b[0m\u001b[0m\n\u001b[0m\u001b[0;32m    122\u001b[0m                     \u001b[1;32mcontinue\u001b[0m\u001b[1;33m\u001b[0m\u001b[1;33m\u001b[0m\u001b[0m\n\u001b[0;32m    123\u001b[0m                 \u001b[1;31m#print('hoi')\u001b[0m\u001b[1;33m\u001b[0m\u001b[1;33m\u001b[0m\u001b[0m\n",
      "\u001b[1;31mKeyboardInterrupt\u001b[0m: "
     ]
    }
   ],
   "source": [
    "# Initializations\n",
    "pbw_rate = np.arange(0.0, 1.25, 0.25)\n",
    "total_height = 55\n",
    "total_width = 55\n",
    "num_runs = 2 # Run it mulitple times to account for stochasticity\n",
    "results_total_amount = {} # Store the results for each pbw rate in a dictionary\n",
    "\n",
    "for pbw in pbw_rate:\n",
    "    # Initialize the amount of free solvent solvents to list \n",
    "    all_free_solvent_list = []\n",
    "\n",
    "    for i in range(num_runs):\n",
    "        see_grid = CA_rules(CA_grid(), pbw=pbw).generate_simulation()\n",
    "        plt.imshow(see_grid)\n",
    "        plt.title(f\"$P_B(W) = {pbw:.2f}$\")\n",
    "        plt.show()\n",
    "\n",
    "        unbound_solvent = analysis.count_unbound_molecule(see_grid, total_height, total_width)\n",
    "        print(f\"The amount of unbound solvent solvents for pbw:{pbw:.2f} is {unbound_solvent}\")\n",
    "\n",
    "        # Add the amount of free solvent solvents \n",
    "        all_free_solvent_list.append(unbound_solvent)\n",
    "\n",
    "    # Store the results for each pbw rate in a dictionary\n",
    "    results_total_amount[pbw] = all_free_solvent_list\n",
    "    mean_unbound_solvent = statistics.mean(all_free_solvent_list)\n",
    "    std_unbound_solvent = statistics.stdev(all_free_solvent_list)\n",
    "\n",
    "    print(f\"The average amount of unbound solvent solvents for pbw:{pbw:.2f} is {mean_unbound_solvent}\")\n",
    "    print(f\"The standard deviation for pbw:{pbw:.2f} is {std_unbound_solvent}\")\n",
    "    \n",
    "\n",
    "# # Plot the results\n",
    "# mean_unbound_solvent = []\n",
    "# std_unbound_solvent = []    \n",
    "\n",
    "# for pbw in results_total_amount():\n",
    "#     # Get statistics: mean and standard deviation\n",
    "#     mean_unbound_solvent = statistics.mean(all_free_solvent_list)\n",
    "#     std_unbound_solvent = statistics.stdev(all_free_solvent_list)\n",
    "\n",
    "#     mean_unbound_solvent.append(mean_unbound_solvent)\n",
    "#     std_unbound_solvent.append(std_unbound_solvent)\n",
    "\n",
    "# plt.errorbar(pbw_rate, mean_unbound_solvent, yerr=std_unbound_solvent, fmt='o')\n",
    "# plt.xlabel(\"$P_B(W)$ values\")\n",
    "# plt.ylabel(\"Amount of unbound solvent solvents\")\n",
    "# plt.title(\"Amount of unbound solvent solvents for different $P_B(W)$ values\")\n",
    "# plt.grid(True)\n",
    "# plt.show()\n",
    "   "
   ]
  },
  {
   "cell_type": "markdown",
   "metadata": {},
   "source": [
    "### <font color = Pink > **Influence of Solute Concentration** </font>"
   ]
  },
  {
   "cell_type": "markdown",
   "metadata": {},
   "source": [
    "### <font color = Pink > **Influence of Water-Solute Breaking Probability** </font>"
   ]
  },
  {
   "cell_type": "markdown",
   "metadata": {},
   "source": [
    "### Counting of unbound water molecules"
   ]
  },
  {
   "cell_type": "code",
   "execution_count": 4,
   "metadata": {},
   "outputs": [
    {
     "ename": "NameError",
     "evalue": "name 'CA_rules_only_water' is not defined",
     "output_type": "error",
     "traceback": [
      "\u001b[1;31m---------------------------------------------------------------------------\u001b[0m",
      "\u001b[1;31mNameError\u001b[0m                                 Traceback (most recent call last)",
      "Cell \u001b[1;32mIn[4], line 1\u001b[0m\n\u001b[1;32m----> 1\u001b[0m see_grid \u001b[38;5;241m=\u001b[39m \u001b[43mCA_rules_only_water\u001b[49m(CA_grid())\u001b[38;5;241m.\u001b[39mgenerate_simulation()\n\u001b[0;32m      2\u001b[0m plt\u001b[38;5;241m.\u001b[39mimshow(see_grid)\n\u001b[0;32m      3\u001b[0m plt\u001b[38;5;241m.\u001b[39mshow()\n",
      "\u001b[1;31mNameError\u001b[0m: name 'CA_rules_only_water' is not defined"
     ]
    }
   ],
   "source": [
    "see_grid = CA_rules_only_water(CA_grid()).generate_simulation()\n",
    "plt.imshow(see_grid)\n",
    "plt.show()\n",
    "total_height = 55\n",
    "total_width = 55\n",
    "\n",
    "unbound_water = analysis.count_unbound_water(see_grid, total_height, total_width)"
   ]
  }
 ],
 "metadata": {
  "kernelspec": {
   "display_name": "Python 3",
   "language": "python",
   "name": "python3"
  },
  "language_info": {
   "codemirror_mode": {
    "name": "ipython",
    "version": 3
   },
   "file_extension": ".py",
   "mimetype": "text/x-python",
   "name": "python",
   "nbconvert_exporter": "python",
   "pygments_lexer": "ipython3",
   "version": "3.9.7"
  }
 },
 "nbformat": 4,
 "nbformat_minor": 2
}
