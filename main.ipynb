{
 "cells": [
  {
   "cell_type": "markdown",
   "metadata": {},
   "source": [
    "# <font color = LightGreen > **CA model of water dynamics and hydrophobic interactions** </font>"
   ]
  },
  {
   "cell_type": "markdown",
   "metadata": {},
   "source": [
    "Authors:\n",
    "- H. Malash, 15179192\n",
    "- S. Bhusal, 14724383\n",
    "- L. Pahladsingh, 13846566\n",
    "- T. Glansdorp, 12748587"
   ]
  },
  {
   "cell_type": "code",
   "execution_count": null,
   "metadata": {},
   "outputs": [],
   "source": [
    "from model import CA_rules, CA_grid, CA_rules_only_water\n",
    "from analysis import calculate_attributes\n",
    "import analysis\n",
    "import numpy as np\n",
    "import matplotlib.pyplot as plt\n",
    "import random"
   ]
  },
  {
   "cell_type": "markdown",
   "metadata": {},
   "source": [
    "## <font color = LightBlue > **Background Information** </font>"
   ]
  },
  {
   "cell_type": "markdown",
   "metadata": {},
   "source": [
    "Our cellular automaton (CA) model simulating an aqueous solution consists of a grid, representing the surface of a torus. Each cell, denoted as '$\\textit{i}$' is surrounded by four neighbors '$\\textit{j}$ ', and there is an additional cell two positions beyond '$\\textit{i}$ ', labeled as '$\\textit{k}$ '. We interpret the cell indicated by 'j' as the von Neumann neighborhood, and the cell indicated by 'k' as the extended von Neumann neighborhood.\n",
    "\n",
    "The state of each cell, represented by binary numbers, signifies its occupancy. There are three possible options for occupancy within the system:\n",
    "\n",
    "- An empty cell is denoted by 0.\n",
    "- A cell containing water is indicated by 1.\n",
    "- A cell containing solute is indicated by 2.\n",
    "\n",
    "In our model, two parameters influence the movement of molecules within the grid: the $\\textbf{breaking probability}$ ($P_B$) and the $\\textbf{joining probability}$ ($J$). The combination of these probabilities determines the behavior of cell movement.\n",
    "\n",
    "The $\\textbf{breaking probability}$ ($P_B$) represents the probability of a molecule in cell $\\textit{i}$ breaking away from a molecule in cell $\\textit{j}$ when only one $\\textit{j}$ cell is occupied. We have defined three specific breaking probabilities:\n",
    "\n",
    "- $P_B(W)$: Water-water breaking probability\n",
    "- $P_B(L)$: Solute-solute breaking probability\n",
    "- $P_B(WL)$: Water-solute breaking probability\n",
    "\n",
    "The  $\\textbf{joining probability}$ ($J$) quantifies the ratio between the likelihood of a molecule at $\\textit{i}$  moving towards an occupied $\\textit{k}$ cell when $\\textit{j}$  is empty and the probability of the same molecule at $\\textit{i}$  moving towards an empty $\\textit{k}$  cell when $\\textit{j}$  is unoccupied. \n",
    "\n",
    " is a positive number, when ($J=1$), it indicated that a molecule at $\\textit{i}$ has the same probability to move towards an occupied $\\textit{k}$ as when $\\textit{k}$ is empty. So the state of cell $\\textit{k}$ does not matter. \n",
    "\n",
    "The parameter ($J$) is a positive number. When $J=1$, it signifies that a molecule at $\\textit{i}$ has an equal probability of moving towards an occupied $\\textit{k}$ as when $\\textit{k}$ is empty. In this case, the state of cell $\\textit{k}$ does not influence the movement probability. As before we have three distinct joining probabilities: $J(W)$, $J(L)$ and $J(WL)$.\n",
    "\n",
    "### <font> **Moving probability** </font> \n",
    "Combining $P_B$ and $J$, we obtaining the moving probability of a cell $p_m$: </br>\n",
    "$p_m$ = sum of $p_m(d)$ over all possible $\\textit{d}$ if the sum <1,\n",
    "else 1 </br>\n",
    "\n",
    "with\n",
    "\n",
    "$p_m(d) = 1 / (1 + ((4-n)/(P_B^n) - 1) / J(d)) $ </br>\n",
    "if n < 4 and $P_B$ > 0  </br>\n",
    "\n",
    "$\\textit{n}$ indicating the number of occupied $\\textit{j}$ cells, there are $4-n$ directions for $\\textit{i}$ to move. \n",
    "\n",
    "In the case where $J=1$, the moving probability ($p_m$) is equal to $P_B^n$. Given that all our research accepts this condition, we will focus on working with joint probabilities involving only $P_B$ to calculate the moving probability of a molecule.\n",
    "\n",
    "$\\textit{Information mainly based on}$: </br>\n",
    "Kier, L. B., & Cheng, C. K. (1994). A Cellular Automata Model of an Aqueous Solution, Journal of Chemical Information and Computer Science.  34, 1334-1337\n"
   ]
  },
  {
   "cell_type": "markdown",
   "metadata": {},
   "source": [
    "## <font color = LightBlue > **Water Grid** </font>"
   ]
  },
  {
   "cell_type": "code",
   "execution_count": null,
   "metadata": {},
   "outputs": [],
   "source": [
    "pbw_values = [0.1, 0.2, 0.3, 0.4, 0.5, 0.6, 0.7, 0.8, 0.9] \n",
    "results = []\n",
    "\n",
    "runs = 5\n",
    "\n",
    "all_results = {pbw: [] for pbw in pbw_values}\n",
    "total_molecules = 2087 # 55x55x0.69\n",
    "\n",
    "for pbw_value in pbw_values:\n",
    "    \n",
    "    pbw_results = []\n",
    "\n",
    "    for run in range(runs):\n",
    "        print(f\"Running simulation with {pbw_value} pbw value.\")\n",
    "        ca_grid = CA_grid(solute_amount=0)\n",
    "        ca_rules = CA_rules(ca_grid, pbw=pbw_value)\n",
    "\n",
    "        final_grid = ca_rules.generate_simulation()\n",
    "\n",
    "        f_o, f_1, f_2, f_3, f_4 = calculate_attributes(grid=ca_grid, rules=ca_rules)\n",
    "        pbw_results.append(np.array([f_o, f_1, f_2, f_3, f_4]))\n",
    "\n",
    "    pbw_results = np.array(pbw_results)\n",
    "\n",
    "    average_results = np.mean(pbw_results, axis=0)\n",
    "    std_dev_results = np.std(pbw_results, axis=0)\n",
    "\n",
    "    all_results[pbw_value] = {\n",
    "        'average': average_results,\n",
    "        'std_dev': std_dev_results\n",
    "    }\n",
    "\n",
    "for pbw_value, data in all_results.items():\n",
    "    print(f\"Pbw value: {pbw_value}\")\n",
    "    print(f\"Average: {data['average']}\")\n",
    "    print(f\"Standard Deviation: {data['std_dev']}\")\n",
    "    print()"
   ]
  },
  {
   "cell_type": "code",
   "execution_count": null,
   "metadata": {},
   "outputs": [],
   "source": [
    "for i, attribute in enumerate(['$f_0$', '$f_1$', '$f_2$', '$f_3$', '$f_4$']):\n",
    "    averages = [all_results[pbw]['average'][i] for pbw in pbw_values]\n",
    "    std_devs = [all_results[pbw]['std_dev'][i] for pbw in pbw_values]\n",
    "    \n",
    "    num_runs = 5\n",
    "    confidence_interval = 1.96 * np.array(std_devs) / np.sqrt(num_runs)\n",
    "    \n",
    "    lower_bound = np.array(averages) - confidence_interval\n",
    "    upper_bound = np.array(averages) + confidence_interval\n",
    "\n",
    "    plt.plot(np.array(pbw_values), averages, label=attribute)\n",
    "    plt.fill_between(np.array(pbw_values) / 2087 * 100, lower_bound, upper_bound, alpha=0.2)\n",
    "\n",
    "    \n",
    "plt.xlabel('Pbw value', fontsize=14, fontweight='bold')\n",
    "plt.ylabel('Attribute Value', fontsize=14, fontweight='bold')\n",
    "plt.ylim(0, 1)  \n",
    "plt.xticks(fontsize=10)\n",
    "plt.yticks(fontsize=10)\n",
    "plt.title('Effect of Pbw values on Water Structure', fontsize=16, fontweight='bold')\n",
    "plt.legend(fontsize=10)\n",
    "plt.grid(True, which='both', linestyle='--', linewidth=0.5)\n",
    "plt.tight_layout()  "
   ]
  },
  {
   "cell_type": "markdown",
   "metadata": {},
   "source": [
    "## <font color = LightBlue > **Water-Solute Grid** </font>"
   ]
  },
  {
   "cell_type": "markdown",
   "metadata": {},
   "source": [
    "### <font color = Pink > **Influence of Water temperature on solubility** </font>"
   ]
  },
  {
   "cell_type": "markdown",
   "metadata": {},
   "source": [
    "### <font color = Pink > **Influence of Solute Concentration** </font>"
   ]
  },
  {
   "cell_type": "code",
   "execution_count": null,
   "metadata": {},
   "outputs": [],
   "source": [
    "solute_concentrations = [0, 50] #, 100, 150, 200, 250, 300, 350, 400, 450, 500, 550, 600, 650, 700, 750, 800, 850, 900]\n",
    "results = []\n",
    "for solute_amount in solute_concentrations:\n",
    "    print(f\"Running simulation with {solute_amount} solute molecules.\")\n",
    "    ca_grid = CA_grid(solute_amount=solute_amount)\n",
    "    ca_rules = CA_rules(ca_grid)\n",
    "    final_grid = ca_rules.generate_simulation()\n",
    "\n",
    "    f_o, f_1, f_2, f_3, f_4 = calculate_attributes(grid=ca_grid, rules=ca_rules)\n",
    "    output = np.array([f_o, f_1, f_2, f_3, f_4])\n",
    "    results.append(output)\n",
    "\n",
    "results = np.array(results)\n",
    "print(results)\n"
   ]
  },
  {
   "cell_type": "code",
   "execution_count": null,
   "metadata": {},
   "outputs": [],
   "source": [
    "\n",
    "plt.plot(solute_concentrations, results.T[0], label='f_0')\n",
    "plt.plot(solute_concentrations, results.T[1], label='f_1')\n",
    "plt.plot(solute_concentrations, results.T[2], label='f_2')\n",
    "plt.plot(solute_concentrations, results.T[3], label='f_3')\n",
    "plt.plot(solute_concentrations, results.T[4], label='f_4')\n",
    "plt.legend()\n",
    "plt.show()"
   ]
  },
  {
   "cell_type": "markdown",
   "metadata": {},
   "source": [
    "### <font color = Pink > **Influence of Water-Solute Breaking Probability** </font>"
   ]
  },
  {
   "cell_type": "code",
   "execution_count": null,
   "metadata": {},
   "outputs": [],
   "source": []
  },
  {
   "cell_type": "markdown",
   "metadata": {},
   "source": [
    "### Counting of unbound water molecules"
   ]
  },
  {
   "cell_type": "code",
   "execution_count": null,
   "metadata": {},
   "outputs": [],
   "source": [
    "unbound_water_count = []\n",
    "\n",
    "for pbw in np.arange(0, 1, 0.1):\n",
    "    final_grid = CA_rules_only_water(CA_grid(), pbw).generate_simulation()\n",
    "    total_height = 55\n",
    "    total_width = 55\n",
    "    print(pbw)\n",
    "\n",
    "    unbound_water = analysis.count_unbound_water(final_grid, total_height, total_width)\n",
    "\n",
    "    unbound_water_count.append(unbound_water)\n",
    "\n",
    "print(unbound_water_count)\n"
   ]
  }
 ],
 "metadata": {
  "kernelspec": {
   "display_name": "Python 3",
   "language": "python",
   "name": "python3"
  },
  "language_info": {
   "codemirror_mode": {
    "name": "ipython",
    "version": 3
   },
   "file_extension": ".py",
   "mimetype": "text/x-python",
   "name": "python",
   "nbconvert_exporter": "python",
   "pygments_lexer": "ipython3",
   "version": "3.10.11"
  }
 },
 "nbformat": 4,
 "nbformat_minor": 2
}
