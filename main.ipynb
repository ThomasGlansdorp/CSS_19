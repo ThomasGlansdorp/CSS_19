{
 "cells": [
  {
   "cell_type": "markdown",
   "metadata": {},
   "source": [
    "# <font color = LightGreen > **CA model of water dynamics and hydrophobic interactions** </font>"
   ]
  },
  {
   "cell_type": "markdown",
   "metadata": {},
   "source": [
    "Authors:\n",
    "- H. Malash, 15179192\n",
    "- S. Bhusal, 14724383\n",
    "- L. Pahladsingh, studentnumber\n",
    "- T. Glansdorp, 12748587"
   ]
  },
  {
   "cell_type": "code",
   "execution_count": null,
   "metadata": {},
   "outputs": [],
   "source": [
    "from model import CA_rules, CA_grid, CA_rules_only_water\n",
    "import analysis\n",
    "import numpy as np\n",
    "import matplotlib.pyplot as plt\n",
    "import random"
   ]
  },
  {
   "cell_type": "markdown",
   "metadata": {},
   "source": [
    "## <font color = LightBlue > **Background Information** </font>"
   ]
  },
  {
   "cell_type": "markdown",
   "metadata": {},
   "source": [
    "### Moving probability \n",
    "$p_m$ = sum of $p_m(d)$ over all possible $\\textit(d)$ if the sum <1,\n",
    "else 1 </br>\n",
    "\n",
    "$p_m(d)$ = 1 / (1 + ((4-n)/($P_B^n$) - 1) / J(d)) </br>\n",
    "if n < 4 and $P_B$ > 0 \n",
    "\n",
    "### CA Model\n",
    "Empty cell = 0 </br>\n",
    "Water cell = 1 </br>\n",
    "Solute cell = 2 </br>\n"
   ]
  },
  {
   "cell_type": "markdown",
   "metadata": {},
   "source": [
    "## <font color = LightBlue > **Water Grid** </font>"
   ]
  },
  {
   "cell_type": "markdown",
   "metadata": {},
   "source": [
    "## <font color = LightBlue > **Water-Solute Grid** </font>"
   ]
  },
  {
   "cell_type": "markdown",
   "metadata": {},
   "source": [
    "### <font color = Pink > **Influence of Water temperature on solubility** </font>"
   ]
  },
  {
   "cell_type": "markdown",
   "metadata": {},
   "source": [
    "### <font color = Pink > **Influence of Solute Concentration** </font>"
   ]
  },
  {
   "cell_type": "markdown",
   "metadata": {},
   "source": [
    "### <font color = Pink > **Influence of Water-Solute Breaking Probability** </font>"
   ]
  },
  {
   "cell_type": "markdown",
   "metadata": {},
   "source": [
    "### Counting of unbound water molecules"
   ]
  },
  {
   "cell_type": "code",
   "execution_count": 4,
   "metadata": {},
   "outputs": [
    {
     "ename": "NameError",
     "evalue": "name 'CA_rules_only_water' is not defined",
     "output_type": "error",
     "traceback": [
      "\u001b[1;31m---------------------------------------------------------------------------\u001b[0m",
      "\u001b[1;31mNameError\u001b[0m                                 Traceback (most recent call last)",
      "Cell \u001b[1;32mIn[4], line 1\u001b[0m\n\u001b[1;32m----> 1\u001b[0m see_grid \u001b[38;5;241m=\u001b[39m \u001b[43mCA_rules_only_water\u001b[49m(CA_grid())\u001b[38;5;241m.\u001b[39mgenerate_simulation()\n\u001b[0;32m      2\u001b[0m plt\u001b[38;5;241m.\u001b[39mimshow(see_grid)\n\u001b[0;32m      3\u001b[0m plt\u001b[38;5;241m.\u001b[39mshow()\n",
      "\u001b[1;31mNameError\u001b[0m: name 'CA_rules_only_water' is not defined"
     ]
    }
   ],
   "source": [
    "see_grid = CA_rules_only_water(CA_grid()).generate_simulation()\n",
    "plt.imshow(see_grid)\n",
    "plt.show()\n",
    "total_height = 55\n",
    "total_width = 55\n",
    "\n",
    "unbound_water = analysis.count_unbound_water(see_grid, total_height, total_width)"
   ]
  }
 ],
 "metadata": {
  "kernelspec": {
   "display_name": "Python 3",
   "language": "python",
   "name": "python3"
  },
  "language_info": {
   "codemirror_mode": {
    "name": "ipython",
    "version": 3
   },
   "file_extension": ".py",
   "mimetype": "text/x-python",
   "name": "python",
   "nbconvert_exporter": "python",
   "pygments_lexer": "ipython3",
   "version": "3.10.11"
  }
 },
 "nbformat": 4,
 "nbformat_minor": 2
}
